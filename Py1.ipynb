{
 "cells": [
  {
   "cell_type": "markdown",
   "id": "6abe30e8",
   "metadata": {},
   "source": [
    "### Q1) Write a Python program to get a list, sorted in increasing order by the last element in each tuple from a given list of non-empty tuples. Sample List: [(2, 5), (1, 2), (4, 4), (2, 3), (2, 1)] "
   ]
  },
  {
   "cell_type": "code",
   "execution_count": 1,
   "id": "00a216ef",
   "metadata": {},
   "outputs": [
    {
     "name": "stdout",
     "output_type": "stream",
     "text": [
      "[(2, 1), (1, 2), (2, 3), (4, 4), (2, 5)]\n"
     ]
    }
   ],
   "source": [
    "def sort_by_last_element(tuples_list):\n",
    "    # Simple bubble sort based on last element of each tuple\n",
    "    n = len(tuples_list)\n",
    "    for i in range(n):\n",
    "        for p in range(0, n-i-1):\n",
    "            if tuples_list[p][-1] > tuples_list[p+1][-1]:\n",
    "                # Swap if the last element of the current tuple is greater than the next\n",
    "                tuples_list[p], tuples_list[p+1] = tuples_list[p+1], tuples_list[p]\n",
    "    return tuples_list\n",
    "\n",
    "# Sample List\n",
    "sample_list = [(2, 5), (1, 2), (4, 4), (2, 3), (2, 1)]\n",
    "sorted_list = sort_by_last_element(sample_list)\n",
    "print(sorted_list)"
   ]
  },
  {
   "cell_type": "markdown",
   "id": "91580cc7",
   "metadata": {},
   "source": [
    "### Q2) Write a Python program to get a string from a given string where all occurrences of its first char have been changed to '$', except the first char itself. Sample String : 'restart' "
   ]
  },
  {
   "cell_type": "code",
   "execution_count": 3,
   "id": "ada336ca",
   "metadata": {},
   "outputs": [
    {
     "name": "stdout",
     "output_type": "stream",
     "text": [
      "resta$t\n"
     ]
    }
   ],
   "source": [
    "def replace_char(d):\n",
    "    if not d:\n",
    "        return d\n",
    "    first_char = d[0]\n",
    "    result = first_char\n",
    "    i = 1\n",
    "    while i < len(d):\n",
    "        if d[i] == first_char:\n",
    "            result += '$'\n",
    "        else:\n",
    "            result += d[i]\n",
    "        i += 1\n",
    "    return result\n",
    "\n",
    "# Sample String\n",
    "sample_string = 'restart'\n",
    "output_string = replace_char(sample_string)\n",
    "print(output_string)"
   ]
  },
  {
   "cell_type": "markdown",
   "id": "e2b01615",
   "metadata": {},
   "source": [
    "### Q3) Write a Python program to find the first appearance of the substring 'not' and 'poor' from a given string, if 'bad' follows the 'poor', replace the whole 'not'...'poor' substring with 'good'. Return the resulting string. "
   ]
  },
  {
   "cell_type": "code",
   "execution_count": 9,
   "id": "08985a72",
   "metadata": {},
   "outputs": [
    {
     "name": "stdout",
     "output_type": "stream",
     "text": [
      "The lyrics are good!\n"
     ]
    }
   ],
   "source": [
    "def please_replace_not_poor(g):\n",
    "    n = len(g)\n",
    "    not_index = -1\n",
    "    poor_index = -1\n",
    "    # Please search 'not'\n",
    "    for i in range(n - 2):\n",
    "        if g[i] == 'n' and g[i+1] == 'o' and g[i+2] == 't':\n",
    "            not_index = i\n",
    "            break\n",
    "    # Please search 'poor'\n",
    "    for i in range(n - 3):\n",
    "        if g[i] == 'p' and g[i+1] == 'o' and g[i+2] == 'o' and g[i+3] == 'r':\n",
    "            poor_index = i\n",
    "            break\n",
    "    # Please replace if 'poor' follows 'not'\n",
    "    if not_index != -1 and poor_index != -1 and poor_index > not_index:\n",
    "        result = ''\n",
    "        # Add part before 'not'\n",
    "        for i in range(not_index):\n",
    "            result += g[i]\n",
    "        # Add 'good'\n",
    "        result += 'good'\n",
    "        # Add part after 'poor'\n",
    "        for i in range(poor_index + 4, n):\n",
    "            result += g[i]\n",
    "        return result\n",
    "    else:\n",
    "        return g\n",
    "\n",
    "# Sample String\n",
    "sample_string = 'The lyrics are not that poor!'\n",
    "output_string = please_replace_not_poor(sample_string)\n",
    "print(output_string)"
   ]
  },
  {
   "cell_type": "markdown",
   "id": "dc8d9018",
   "metadata": {},
   "source": [
    "### Q4) Write a python program to sort a dictionary by value. "
   ]
  },
  {
   "cell_type": "code",
   "execution_count": 12,
   "id": "4242af92",
   "metadata": {},
   "outputs": [
    {
     "name": "stdout",
     "output_type": "stream",
     "text": [
      "{'b': 1, 'c': 2, 'a': 3}\n"
     ]
    }
   ],
   "source": [
    "def sort_dict_by_value(d):\n",
    "    # To convert dictionary to list of tuples\n",
    "    results = []\n",
    "    for key in d:\n",
    "        results.append((key, d[key]))\n",
    "    # Simple bubble sort based on value\n",
    "    n = len(results)\n",
    "    for i in range(n):\n",
    "        for j in range(0, n-i-1):\n",
    "            if results[j][1] > results[j+1][1]:\n",
    "                # Swap if current value is greater than next value\n",
    "                temp = results[j]\n",
    "                results[j] = results[j+1]\n",
    "                results[j+1] = temp\n",
    "    # To create a new sorted dictionary\n",
    "    sorted_dict = {}\n",
    "    for results in results:\n",
    "        sorted_dict[results[0]] = results[1]\n",
    "    return sorted_dict\n",
    "\n",
    "# Sample Dictionary\n",
    "sample_dict = {'a': 3, 'b': 1, 'c': 2}\n",
    "sorted_dict = sort_dict_by_value(sample_dict)\n",
    "print(sorted_dict)"
   ]
  },
  {
   "cell_type": "markdown",
   "id": "5ab11ee6",
   "metadata": {},
   "source": [
    "### Q5) Write a python program to add key to a dictionary. "
   ]
  },
  {
   "cell_type": "code",
   "execution_count": 10,
   "id": "790a9b97",
   "metadata": {},
   "outputs": [
    {
     "name": "stdout",
     "output_type": "stream",
     "text": [
      "{'a': 2, 'b': 4, 'c': 6}\n"
     ]
    }
   ],
   "source": [
    "def add_key(d, key, value):\n",
    "    d[key] = value\n",
    "    return d\n",
    "\n",
    "# Sample Dictionary\n",
    "sample_dict = {'a': 2, 'b': 4}\n",
    "new_key = 'c'\n",
    "new_value = 6\n",
    "updated_dict = add_key(sample_dict, new_key, new_value)\n",
    "print(updated_dict)"
   ]
  }
 ],
 "metadata": {
  "kernelspec": {
   "display_name": "agent-venv",
   "language": "python",
   "name": "python3"
  },
  "language_info": {
   "codemirror_mode": {
    "name": "ipython",
    "version": 3
   },
   "file_extension": ".py",
   "mimetype": "text/x-python",
   "name": "python",
   "nbconvert_exporter": "python",
   "pygments_lexer": "ipython3",
   "version": "3.12.9"
  }
 },
 "nbformat": 4,
 "nbformat_minor": 5
}
