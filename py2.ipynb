{
 "cells": [
  {
   "cell_type": "code",
   "execution_count": null,
   "id": "51e3fec0",
   "metadata": {},
   "outputs": [
    {
     "name": "stdout",
     "output_type": "stream",
     "text": [
      "20 is a Positive\n"
     ]
    }
   ],
   "source": [
    "# 1. User input is Positive, Negative or Zero Number\n",
    "num = int(input('Please enter a number: '))\n",
    "if num > 0:\n",
    "    print(f\"{num} is a Positive\")\n",
    "elif num < 0:\n",
    "    print(f\"{num} is a negative\")\n",
    "else:\n",
    "    print(f\"{num} is a zero\")"
   ]
  },
  {
   "cell_type": "code",
   "execution_count": null,
   "id": "5cf1951f",
   "metadata": {},
   "outputs": [
    {
     "name": "stdout",
     "output_type": "stream",
     "text": [
      "6 is 'Even'\n"
     ]
    }
   ],
   "source": [
    "# 2. User input is Even or Odd Number\n",
    "num = int(input('Please enter an number: '))\n",
    "if num % 2 == 0:\n",
    "    print(f\"{num} is 'Even'\")\n",
    "else:\n",
    "    print(f\"{num} is 'odd'\")"
   ]
  },
  {
   "cell_type": "code",
   "execution_count": null,
   "id": "80f8c2b5",
   "metadata": {},
   "outputs": [
    {
     "name": "stdout",
     "output_type": "stream",
     "text": [
      " 15 'is larger' than 12\n"
     ]
    }
   ],
   "source": [
    "# 3. Given input is Largest of Two Numbers\n",
    "a = int(input('Please enter first number: '))\n",
    "b = int(input('Please enter second number: '))\n",
    "if a > b:\n",
    "    print(f\" {a} 'is larger' than {b}\")\n",
    "elif b > a:\n",
    "    print(f\" {b} 'is larger' than {a}\")\n",
    "else:\n",
    "    print(f\" {a} is equal to {b}\")"
   ]
  },
  {
   "cell_type": "code",
   "execution_count": 5,
   "id": "259ccdf2",
   "metadata": {},
   "outputs": [
    {
     "name": "stdout",
     "output_type": "stream",
     "text": [
      "the absolute value of -3 is 3\n"
     ]
    }
   ],
   "source": [
    "# 4. Absolute Value (no abs())\n",
    "num = int(input('Please enter a number: '))\n",
    "if num < 0:\n",
    "    print(f\"the absolute value of {num} is {-num}\")\n",
    "else:\n",
    "    print(f\"the absolute value of {num} is {num}\")"
   ]
  },
  {
   "cell_type": "code",
   "execution_count": 8,
   "id": "8c791067",
   "metadata": {},
   "outputs": [
    {
     "name": "stdout",
     "output_type": "stream",
     "text": [
      "age=25 is 'Eligible to vote' \n"
     ]
    }
   ],
   "source": [
    "# 5. Eligibility for Voting\n",
    "age = int(input('Please enter your age: '))\n",
    "if age >= 18:\n",
    "    print(f\"age={age} is 'Eligible to vote' \")\n",
    "else:\n",
    "    print(f\"age={age} is 'Not eligible to vote' \")"
   ]
  },
  {
   "cell_type": "code",
   "execution_count": 9,
   "id": "9ad6208f",
   "metadata": {},
   "outputs": [
    {
     "name": "stdout",
     "output_type": "stream",
     "text": [
      " year = 1999 is 'Not a Leap Year' \n"
     ]
    }
   ],
   "source": [
    "# 6. Leap Year Check\n",
    "year = int(input('Please enter a year: '))\n",
    "if (year % 4 == 0 and year % 100 != 0) or (year % 400 == 0):\n",
    "    print(f\" year={year} is 'Leap Year' \")\n",
    "else:\n",
    "    print(f\" year = {year} is 'Not a Leap Year' \")"
   ]
  },
  {
   "cell_type": "code",
   "execution_count": 10,
   "id": "a30a3d50",
   "metadata": {},
   "outputs": [
    {
     "name": "stdout",
     "output_type": "stream",
     "text": [
      " for marks = 99 -->'Pass' \n"
     ]
    }
   ],
   "source": [
    "# 7. Grade Calculation\n",
    "marks = int(input('Please enter marks: '))\n",
    "if marks >= 40:\n",
    "    print(f\" for marks = {marks} -->'Pass' \" )\n",
    "else:\n",
    "    print(f\"for marks ={marks} -->'Fail' \")"
   ]
  },
  {
   "cell_type": "code",
   "execution_count": 11,
   "id": "254355c9",
   "metadata": {},
   "outputs": [
    {
     "name": "stdout",
     "output_type": "stream",
     "text": [
      " number = 55 is the 'Multiple of 5' \n"
     ]
    }
   ],
   "source": [
    "# 8. Multiple of 5\n",
    "num = int(input('Please enter a number: '))\n",
    "if num % 5 == 0:\n",
    "    print(f\" number = {num} is the 'Multiple of 5' \")\n",
    "else:\n",
    "    print(f\" number ={num} is'Not a multiple of 5' \")"
   ]
  },
  {
   "cell_type": "code",
   "execution_count": 12,
   "id": "682cf70e",
   "metadata": {},
   "outputs": [
    {
     "name": "stdout",
     "output_type": "stream",
     "text": [
      " l is 'Lowercase letter' \n"
     ]
    }
   ],
   "source": [
    "# 9. Character Case Check\n",
    "ch = input('Please enter a character: ')\n",
    "if ch >= 'A' and ch <= 'Z':\n",
    "    print(f\" {ch} is 'Uppercase letter' \")\n",
    "elif ch >= 'a' and ch <= 'z':\n",
    "    print(f\" {ch} is 'Lowercase letter' \")\n",
    "else:\n",
    "    print(f\" {ch} 'Not a letter' \")"
   ]
  },
  {
   "cell_type": "code",
   "execution_count": 13,
   "id": "fff7ce45",
   "metadata": {},
   "outputs": [
    {
     "name": "stdout",
     "output_type": "stream",
     "text": [
      " for 2000 'Final bill amount:' 1800 \n"
     ]
    }
   ],
   "source": [
    "# 10. Discount Calculator\n",
    "amount = int(input('Please enter purchase amount: '))\n",
    "if amount >= 1000:\n",
    "    discount = amount * 10 // 100\n",
    "    final_amount = amount - discount\n",
    "else:\n",
    "    final_amount = amount\n",
    "print(f\" for {amount} 'Final bill amount:' {final_amount} \")"
   ]
  }
 ],
 "metadata": {
  "kernelspec": {
   "display_name": "agent-venv",
   "language": "python",
   "name": "python3"
  },
  "language_info": {
   "codemirror_mode": {
    "name": "ipython",
    "version": 3
   },
   "file_extension": ".py",
   "mimetype": "text/x-python",
   "name": "python",
   "nbconvert_exporter": "python",
   "pygments_lexer": "ipython3",
   "version": "3.12.9"
  }
 },
 "nbformat": 4,
 "nbformat_minor": 5
}
