{
 "cells": [
  {
   "cell_type": "markdown",
   "id": "a16b7100-9669-485b-9d09-78a8576b928e",
   "metadata": {},
   "source": [
    "# Assignment 3 "
   ]
  },
  {
   "cell_type": "markdown",
   "id": "5db30fb7-6351-437b-b4cf-ea2c87e9af1b",
   "metadata": {},
   "source": [
    "### Q1) Generate all prime numbers less than 100.Print them in a spiral format (like a clockwise square spiral) of minimal size that fits all primes."
   ]
  },
  {
   "cell_type": "code",
   "execution_count": 2,
   "id": "c4b911fa-73da-4f8e-baf9-6c0df0c76395",
   "metadata": {},
   "outputs": [
    {
     "name": "stdout",
     "output_type": "stream",
     "text": [
      "Q1) Prime Numbers Spiral (<100):\n",
      " 2  3  5  7 11\n",
      "53 59 61 67 13\n",
      "47 89 97 71 17\n",
      "43 83 79 73 19\n",
      "41 37 31 29 23\n"
     ]
    }
   ],
   "source": [
    "import math\n",
    "\n",
    "# Function to check prime\n",
    "def is_prime(n):\n",
    "    if n < 2:\n",
    "        return False\n",
    "    for i in range(2, int(math.sqrt(n)) + 1):\n",
    "        if n % i == 0:\n",
    "            return False\n",
    "    return True\n",
    "\n",
    "# Generate primes < 100\n",
    "primes = [p for p in range(2, 100) if is_prime(p)]\n",
    "n = len(primes)\n",
    "\n",
    "# Find minimal square size that fits all primes\n",
    "size = math.ceil(math.sqrt(n))\n",
    "\n",
    "# Create empty matrix\n",
    "spiral = [[0] * size for _ in range(size)]\n",
    "\n",
    "# Fill matrix in spiral order\n",
    "top, bottom, left, right = 0, size - 1, 0, size - 1\n",
    "idx = 0\n",
    "\n",
    "while top <= bottom and left <= right and idx < n:\n",
    "    for i in range(left, right + 1):\n",
    "        if idx < n:\n",
    "            spiral[top][i] = primes[idx]; idx += 1\n",
    "    top += 1\n",
    "    for i in range(top, bottom + 1):\n",
    "        if idx < n:\n",
    "            spiral[i][right] = primes[idx]; idx += 1\n",
    "    right -= 1\n",
    "    for i in range(right, left - 1, -1):\n",
    "        if idx < n:\n",
    "            spiral[bottom][i] = primes[idx]; idx += 1\n",
    "    bottom -= 1\n",
    "    for i in range(bottom, top - 1, -1):\n",
    "        if idx < n:\n",
    "            spiral[i][left] = primes[idx]; idx += 1\n",
    "    left += 1\n",
    "\n",
    "# Print spiral\n",
    "print(\"Q1) Prime Numbers Spiral (<100):\")\n",
    "for row in spiral:\n",
    "    print(\" \".join(f\"{x:2d}\" if x != 0 else \"  \" for x in row))\n"
   ]
  },
  {
   "cell_type": "markdown",
   "id": "8ce092fc-72cb-4f79-ba36-e467462b07de",
   "metadata": {},
   "source": [
    "### Q2) You are a data analyst at a streaming platform, managing user interactions, analytics,and daily operations. Use a for loop to create a text-based graph of hourly views. For example, use * to represent every 5 views."
   ]
  },
  {
   "cell_type": "code",
   "execution_count": 3,
   "id": "e0e0084f-59c4-488a-914f-78216acaf53d",
   "metadata": {},
   "outputs": [
    {
     "name": "stdout",
     "output_type": "stream",
     "text": [
      "\n",
      "Q2) Hourly Views Graph:\n",
      "Hour 00: **\n",
      "Hour 01: ******\n",
      "Hour 02: ***********\n",
      "Hour 03: *\n",
      "Hour 04: ********\n",
      "Hour 05: *****\n",
      "Hour 06: **\n",
      "Hour 07: ************\n"
     ]
    }
   ],
   "source": [
    "print(\"\\nQ2) Hourly Views Graph:\")\n",
    "hourly_views = [12, 33, 56, 5, 44, 25, 10, 60]  # example input\n",
    "\n",
    "for hour, views in enumerate(hourly_views):\n",
    "    stars = \"*\" * (views // 5)\n",
    "    print(f\"Hour {hour:02d}: {stars}\")"
   ]
  },
  {
   "cell_type": "markdown",
   "id": "242ffc26-229d-4a09-abae-f6c6054fc08a",
   "metadata": {},
   "source": [
    "### Q3) Each video watched generates revenue based on ad impressions:\n",
    "- First 10 views: \\$0.50 per view\n",
    "\n",
    "- Next 20 views: \\$0.30 per view\n",
    "  \n",
    "- Remaining views: \\$0.10 per view\n",
    "\n",
    "\n",
    "You are given hourly views for the day. Calculate total daily revenue."
   ]
  },
  {
   "cell_type": "code",
   "execution_count": 4,
   "id": "a78279f4-9994-43e6-ae74-11df93f50c4e",
   "metadata": {},
   "outputs": [
    {
     "name": "stdout",
     "output_type": "stream",
     "text": [
      "\n",
      "Q3) Daily Revenue Calculation:\n",
      "Hour 00: 12 views -> $5.60\n",
      "Hour 01: 33 views -> $11.30\n",
      "Hour 02: 56 views -> $13.60\n",
      "Hour 03: 5 views -> $2.50\n",
      "Hour 04: 44 views -> $12.40\n",
      "Hour 05: 25 views -> $9.50\n",
      "Hour 06: 10 views -> $5.00\n",
      "Hour 07: 60 views -> $14.00\n",
      "\n",
      "Total Daily Revenue = $73.90\n"
     ]
    }
   ],
   "source": [
    "def revenue_for_views(views):\n",
    "    revenue = 0.0\n",
    "    if views <= 10:\n",
    "        revenue = views * 0.50\n",
    "    elif views <= 30:\n",
    "        revenue = 10 * 0.50 + (views - 10) * 0.30\n",
    "    else:\n",
    "        revenue = 10 * 0.50 + 20 * 0.30 + (views - 30) * 0.10\n",
    "    return revenue\n",
    "\n",
    "print(\"\\nQ3) Daily Revenue Calculation:\")\n",
    "total_revenue = 0.0\n",
    "for hour, views in enumerate(hourly_views):\n",
    "    rev = revenue_for_views(views)\n",
    "    total_revenue += rev\n",
    "    print(f\"Hour {hour:02d}: {views} views -> ${rev:.2f}\")\n",
    "\n",
    "print(f\"\\nTotal Daily Revenue = ${total_revenue:.2f}\")"
   ]
  },
  {
   "cell_type": "code",
   "execution_count": null,
   "id": "bfab1011-5e7f-429d-ac4f-84bc9401984f",
   "metadata": {},
   "outputs": [],
   "source": []
  }
 ],
 "metadata": {
  "kernelspec": {
   "display_name": "Python 3 (ipykernel)",
   "language": "python",
   "name": "python3"
  },
  "language_info": {
   "codemirror_mode": {
    "name": "ipython",
    "version": 3
   },
   "file_extension": ".py",
   "mimetype": "text/x-python",
   "name": "python",
   "nbconvert_exporter": "python",
   "pygments_lexer": "ipython3",
   "version": "3.11.5"
  }
 },
 "nbformat": 4,
 "nbformat_minor": 5
}
